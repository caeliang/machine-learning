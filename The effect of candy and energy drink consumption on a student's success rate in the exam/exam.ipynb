{
 "cells": [
  {
   "cell_type": "code",
   "execution_count": 2,
   "metadata": {},
   "outputs": [
    {
     "name": "stdout",
     "output_type": "stream",
     "text": [
      "{0: 463, 1: 37}\n"
     ]
    },
    {
     "name": "stderr",
     "output_type": "stream",
     "text": [
      "C:\\Users\\ranim\\AppData\\Roaming\\Python\\Python312\\site-packages\\keras\\src\\layers\\core\\dense.py:87: UserWarning: Do not pass an `input_shape`/`input_dim` argument to a layer. When using Sequential models, prefer using an `Input(shape)` object as the first layer in the model instead.\n",
      "  super().__init__(activity_regularizer=activity_regularizer, **kwargs)\n"
     ]
    },
    {
     "name": "stdout",
     "output_type": "stream",
     "text": [
      "\u001b[1m4/4\u001b[0m \u001b[32m━━━━━━━━━━━━━━━━━━━━\u001b[0m\u001b[37m\u001b[0m \u001b[1m0s\u001b[0m 6ms/step \n",
      "              precision    recall  f1-score   support\n",
      "\n",
      "           0       1.00      0.99      0.99        90\n",
      "           1       0.91      1.00      0.95        10\n",
      "\n",
      "    accuracy                           0.99       100\n",
      "   macro avg       0.95      0.99      0.97       100\n",
      "weighted avg       0.99      0.99      0.99       100\n",
      "\n",
      "Input: [9 5 0 8], Prediction: 0, Expected: 0\n",
      "Input: [6 1 6 4], Prediction: 0, Expected: 0\n",
      "Input: [7 1 7 2], Prediction: 0, Expected: 0\n",
      "Input: [6 4 2 8], Prediction: 0, Expected: 0\n",
      "Input: [6 3 5 2], Prediction: 0, Expected: 0\n"
     ]
    }
   ],
   "source": [
    "import numpy as np\n",
    "import pandas as pd\n",
    "from sklearn.model_selection import train_test_split\n",
    "from tensorflow.keras.models import Sequential\n",
    "from tensorflow.keras.layers import Dense\n",
    "\n",
    "# Kurgusal veri oluştur\n",
    "np.random.seed(42)\n",
    "data_size = 500\n",
    "candy_consumption = np.random.randint(0, 11, data_size)\n",
    "energy_drinks = np.random.randint(0, 6, data_size)\n",
    "study_hours = np.random.randint(0, 9, data_size)\n",
    "exam_stress = np.random.randint(1, 11, data_size)\n",
    "\n",
    "# Başarı durumu: Daha fazla çalışma süresi ve düşük stres -> başarılı olma ihtimali yüksek\n",
    "success = (study_hours * 2 - candy_consumption - energy_drinks - exam_stress > 5).astype(int)\n",
    "\n",
    "# Veri setini birleştir\n",
    "data = pd.DataFrame({\n",
    "    'candy_consumption': candy_consumption,\n",
    "    'energy_drinks': energy_drinks,\n",
    "    'study_hours': study_hours,\n",
    "    'exam_stress': exam_stress,\n",
    "    'success': success\n",
    "})\n",
    "\n",
    "# Giriş (X) ve çıkış (y) değişkenlerini ayır\n",
    "X = data.iloc[:, :-1].values\n",
    "y = data.iloc[:, -1].values\n",
    "unique, counts = np.unique(y, return_counts=True)\n",
    "print(dict(zip(unique, counts)))\n",
    "\n",
    "# Veriyi eğitim ve test setlerine böl\n",
    "X_train, X_test, y_train, y_test = train_test_split(X, y, test_size=0.2, random_state=42)\n",
    "\n",
    "# Modeli tanımla\n",
    "model = Sequential()\n",
    "model.add(Dense(16, input_shape=(X.shape[1],), activation='relu'))\n",
    "model.add(Dense(8, activation='relu'))\n",
    "model.add(Dense(1, activation='sigmoid'))\n",
    "\n",
    "# Modeli derle\n",
    "model.compile(loss='binary_crossentropy', optimizer='adam', metrics=['accuracy'])\n",
    "\n",
    "# Modeli eğit\n",
    "model.fit(X_train, y_train, epochs=100, batch_size=10, verbose=0)\n",
    "\n",
    "# Test seti üzerinde tahmin yap\n",
    "predictions = (model.predict(X_test) > 0.5).astype(int)\n",
    "from sklearn.metrics import classification_report\n",
    "print(classification_report(y_test, predictions))\n",
    "\n",
    "# İlk 5 tahmini özetle\n",
    "for i in range(5):\n",
    "    print(f'Input: {X_test[i]}, Prediction: {predictions[i][0]}, Expected: {y_test[i]}')\n"
   ]
  },
  {
   "cell_type": "code",
   "execution_count": null,
   "metadata": {},
   "outputs": [],
   "source": []
  }
 ],
 "metadata": {
  "kernelspec": {
   "display_name": "myenv",
   "language": "python",
   "name": "myenv"
  },
  "language_info": {
   "codemirror_mode": {
    "name": "ipython",
    "version": 3
   },
   "file_extension": ".py",
   "mimetype": "text/x-python",
   "name": "python",
   "nbconvert_exporter": "python",
   "pygments_lexer": "ipython3",
   "version": "3.12.6"
  }
 },
 "nbformat": 4,
 "nbformat_minor": 2
}
