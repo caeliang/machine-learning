{
 "cells": [
  {
   "cell_type": "markdown",
   "metadata": {},
   "source": []
  },
  {
   "cell_type": "code",
   "execution_count": 1,
   "metadata": {},
   "outputs": [],
   "source": [
    "import pandas as pd\n",
    "import numpy as np"
   ]
  },
  {
   "cell_type": "code",
   "execution_count": 5,
   "metadata": {},
   "outputs": [
    {
     "data": {
      "text/html": [
       "<div>\n",
       "<style scoped>\n",
       "    .dataframe tbody tr th:only-of-type {\n",
       "        vertical-align: middle;\n",
       "    }\n",
       "\n",
       "    .dataframe tbody tr th {\n",
       "        vertical-align: top;\n",
       "    }\n",
       "\n",
       "    .dataframe thead th {\n",
       "        text-align: right;\n",
       "    }\n",
       "</style>\n",
       "<table border=\"1\" class=\"dataframe\">\n",
       "  <thead>\n",
       "    <tr style=\"text-align: right;\">\n",
       "      <th></th>\n",
       "      <th>Email</th>\n",
       "      <th>Address</th>\n",
       "      <th>Avatar</th>\n",
       "      <th>Avg. Session Length</th>\n",
       "      <th>Time on App</th>\n",
       "      <th>Time on Website</th>\n",
       "      <th>Length of Membership</th>\n",
       "      <th>Yearly Amount Spent</th>\n",
       "    </tr>\n",
       "  </thead>\n",
       "  <tbody>\n",
       "    <tr>\n",
       "      <th>0</th>\n",
       "      <td>mstephenson@fernandez.com</td>\n",
       "      <td>835 Frank Tunnel\\nWrightmouth, MI 82180-9605</td>\n",
       "      <td>Violet</td>\n",
       "      <td>34.497268</td>\n",
       "      <td>12.655651</td>\n",
       "      <td>39.577668</td>\n",
       "      <td>4.082621</td>\n",
       "      <td>587.951054</td>\n",
       "    </tr>\n",
       "    <tr>\n",
       "      <th>1</th>\n",
       "      <td>hduke@hotmail.com</td>\n",
       "      <td>4547 Archer Common\\nDiazchester, CA 06566-8576</td>\n",
       "      <td>DarkGreen</td>\n",
       "      <td>31.926272</td>\n",
       "      <td>11.109461</td>\n",
       "      <td>37.268959</td>\n",
       "      <td>2.664034</td>\n",
       "      <td>392.204933</td>\n",
       "    </tr>\n",
       "    <tr>\n",
       "      <th>2</th>\n",
       "      <td>pallen@yahoo.com</td>\n",
       "      <td>24645 Valerie Unions Suite 582\\nCobbborough, D...</td>\n",
       "      <td>Bisque</td>\n",
       "      <td>33.000915</td>\n",
       "      <td>11.330278</td>\n",
       "      <td>37.110597</td>\n",
       "      <td>4.104543</td>\n",
       "      <td>487.547505</td>\n",
       "    </tr>\n",
       "    <tr>\n",
       "      <th>3</th>\n",
       "      <td>riverarebecca@gmail.com</td>\n",
       "      <td>1414 David Throughway\\nPort Jason, OH 22070-1220</td>\n",
       "      <td>SaddleBrown</td>\n",
       "      <td>34.305557</td>\n",
       "      <td>13.717514</td>\n",
       "      <td>36.721283</td>\n",
       "      <td>3.120179</td>\n",
       "      <td>581.852344</td>\n",
       "    </tr>\n",
       "    <tr>\n",
       "      <th>4</th>\n",
       "      <td>mstephens@davidson-herman.com</td>\n",
       "      <td>14023 Rodriguez Passage\\nPort Jacobville, PR 3...</td>\n",
       "      <td>MediumAquaMarine</td>\n",
       "      <td>33.330673</td>\n",
       "      <td>12.795189</td>\n",
       "      <td>37.536653</td>\n",
       "      <td>4.446308</td>\n",
       "      <td>599.406092</td>\n",
       "    </tr>\n",
       "  </tbody>\n",
       "</table>\n",
       "</div>"
      ],
      "text/plain": [
       "                           Email  \\\n",
       "0      mstephenson@fernandez.com   \n",
       "1              hduke@hotmail.com   \n",
       "2               pallen@yahoo.com   \n",
       "3        riverarebecca@gmail.com   \n",
       "4  mstephens@davidson-herman.com   \n",
       "\n",
       "                                             Address            Avatar  \\\n",
       "0       835 Frank Tunnel\\nWrightmouth, MI 82180-9605            Violet   \n",
       "1     4547 Archer Common\\nDiazchester, CA 06566-8576         DarkGreen   \n",
       "2  24645 Valerie Unions Suite 582\\nCobbborough, D...            Bisque   \n",
       "3   1414 David Throughway\\nPort Jason, OH 22070-1220       SaddleBrown   \n",
       "4  14023 Rodriguez Passage\\nPort Jacobville, PR 3...  MediumAquaMarine   \n",
       "\n",
       "   Avg. Session Length  Time on App  Time on Website  Length of Membership  \\\n",
       "0            34.497268    12.655651        39.577668              4.082621   \n",
       "1            31.926272    11.109461        37.268959              2.664034   \n",
       "2            33.000915    11.330278        37.110597              4.104543   \n",
       "3            34.305557    13.717514        36.721283              3.120179   \n",
       "4            33.330673    12.795189        37.536653              4.446308   \n",
       "\n",
       "   Yearly Amount Spent  \n",
       "0           587.951054  \n",
       "1           392.204933  \n",
       "2           487.547505  \n",
       "3           581.852344  \n",
       "4           599.406092  "
      ]
     },
     "execution_count": 5,
     "metadata": {},
     "output_type": "execute_result"
    }
   ],
   "source": [
    "data=pd.read_csv('Ecommerce Customers.csv')\n",
    "data.head()"
   ]
  },
  {
   "cell_type": "code",
   "execution_count": 6,
   "metadata": {},
   "outputs": [
    {
     "data": {
      "text/plain": [
       "Email                   0\n",
       "Address                 0\n",
       "Avatar                  0\n",
       "Avg. Session Length     0\n",
       "Time on App             0\n",
       "Time on Website         0\n",
       "Length of Membership    0\n",
       "Yearly Amount Spent     0\n",
       "dtype: int64"
      ]
     },
     "execution_count": 6,
     "metadata": {},
     "output_type": "execute_result"
    }
   ],
   "source": [
    "data.isnull().sum()"
   ]
  },
  {
   "cell_type": "code",
   "execution_count": 7,
   "metadata": {},
   "outputs": [
    {
     "data": {
      "text/html": [
       "<div>\n",
       "<style scoped>\n",
       "    .dataframe tbody tr th:only-of-type {\n",
       "        vertical-align: middle;\n",
       "    }\n",
       "\n",
       "    .dataframe tbody tr th {\n",
       "        vertical-align: top;\n",
       "    }\n",
       "\n",
       "    .dataframe thead th {\n",
       "        text-align: right;\n",
       "    }\n",
       "</style>\n",
       "<table border=\"1\" class=\"dataframe\">\n",
       "  <thead>\n",
       "    <tr style=\"text-align: right;\">\n",
       "      <th></th>\n",
       "      <th>Avg. Session Length</th>\n",
       "      <th>Time on App</th>\n",
       "      <th>Time on Website</th>\n",
       "      <th>Length of Membership</th>\n",
       "      <th>Yearly Amount Spent</th>\n",
       "    </tr>\n",
       "  </thead>\n",
       "  <tbody>\n",
       "    <tr>\n",
       "      <th>0</th>\n",
       "      <td>34.497268</td>\n",
       "      <td>12.655651</td>\n",
       "      <td>39.577668</td>\n",
       "      <td>4.082621</td>\n",
       "      <td>587.951054</td>\n",
       "    </tr>\n",
       "    <tr>\n",
       "      <th>1</th>\n",
       "      <td>31.926272</td>\n",
       "      <td>11.109461</td>\n",
       "      <td>37.268959</td>\n",
       "      <td>2.664034</td>\n",
       "      <td>392.204933</td>\n",
       "    </tr>\n",
       "    <tr>\n",
       "      <th>2</th>\n",
       "      <td>33.000915</td>\n",
       "      <td>11.330278</td>\n",
       "      <td>37.110597</td>\n",
       "      <td>4.104543</td>\n",
       "      <td>487.547505</td>\n",
       "    </tr>\n",
       "    <tr>\n",
       "      <th>3</th>\n",
       "      <td>34.305557</td>\n",
       "      <td>13.717514</td>\n",
       "      <td>36.721283</td>\n",
       "      <td>3.120179</td>\n",
       "      <td>581.852344</td>\n",
       "    </tr>\n",
       "    <tr>\n",
       "      <th>4</th>\n",
       "      <td>33.330673</td>\n",
       "      <td>12.795189</td>\n",
       "      <td>37.536653</td>\n",
       "      <td>4.446308</td>\n",
       "      <td>599.406092</td>\n",
       "    </tr>\n",
       "  </tbody>\n",
       "</table>\n",
       "</div>"
      ],
      "text/plain": [
       "   Avg. Session Length  Time on App  Time on Website  Length of Membership  \\\n",
       "0            34.497268    12.655651        39.577668              4.082621   \n",
       "1            31.926272    11.109461        37.268959              2.664034   \n",
       "2            33.000915    11.330278        37.110597              4.104543   \n",
       "3            34.305557    13.717514        36.721283              3.120179   \n",
       "4            33.330673    12.795189        37.536653              4.446308   \n",
       "\n",
       "   Yearly Amount Spent  \n",
       "0           587.951054  \n",
       "1           392.204933  \n",
       "2           487.547505  \n",
       "3           581.852344  \n",
       "4           599.406092  "
      ]
     },
     "execution_count": 7,
     "metadata": {},
     "output_type": "execute_result"
    }
   ],
   "source": [
    "data.drop(['Email','Address','Avatar'],axis=1,inplace=True)\n",
    "data.head()"
   ]
  },
  {
   "cell_type": "code",
   "execution_count": 9,
   "metadata": {},
   "outputs": [
    {
     "data": {
      "image/png": "[encoded data removed]",
      "text/plain": [
       "<Figure size 800x600 with 1 Axes>"
      ]
     },
     "metadata": {},
     "output_type": "display_data"
    }
   ],
   "source": [
    "import seaborn as sns\n",
    "import matplotlib.pyplot as plt\n",
    "\n",
    "plt. figure(figsize=(8, 6))\n",
    "sns.histplot(data['Length of Membership'], kde=True, bins=20, stat='density')\n",
    "plt. title('Distribution of Impressions From Home')\n",
    "plt.xlabel('From Home')\n",
    "plt. ylabel('Density')\n",
    "plt. show()\n"
   ]
  },
  {
   "cell_type": "code",
   "execution_count": 11,
   "metadata": {},
   "outputs": [
    {
     "data": {
      "image/png": "[encoded data removed]",
      "text/plain": [
       "<Figure size 800x600 with 1 Axes>"
      ]
     },
     "metadata": {},
     "output_type": "display_data"
    }
   ],
   "source": [
    "plt. figure(figsize=(8, 6))\n",
    "sns.histplot(data['Avg. Session Length'], kde=True, bins=20, stat='density')\n",
    "plt. title('Distribution of Impressions From Home')\n",
    "plt.xlabel('From Home')\n",
    "plt. ylabel('Density')\n",
    "plt. show()"
   ]
  },
  {
   "cell_type": "code",
   "execution_count": 12,
   "metadata": {},
   "outputs": [
    {
     "data": {
      "image/png": "[encoded data removed]",
      "text/plain": [
       "<Figure size 800x600 with 1 Axes>"
      ]
     },
     "metadata": {},
     "output_type": "display_data"
    }
   ],
   "source": [
    "plt. figure(figsize=(8, 6))\n",
    "sns.histplot(data['Time on App'], kde=True, bins=20, stat='density')\n",
    "plt. title('Distribution of Impressions From Home')\n",
    "plt.xlabel('From Home')\n",
    "plt. ylabel('Density')\n",
    "plt. show()"
   ]
  },
  {
   "cell_type": "code",
   "execution_count": 14,
   "metadata": {},
   "outputs": [
    {
     "data": {
      "image/png": "[encoded data removed]",
      "text/plain": [
       "<Figure size 800x600 with 1 Axes>"
      ]
     },
     "metadata": {},
     "output_type": "display_data"
    }
   ],
   "source": [
    "plt. figure(figsize=(8, 6))\n",
    "sns.histplot(data['Time on Website'], kde=True, bins=20, stat='density')\n",
    "plt. title('Distribution of Impressions From Home')\n",
    "plt.xlabel('From Home')\n",
    "plt. ylabel('Density')\n",
    "plt. show()"
   ]
  },
  {
   "cell_type": "code",
   "execution_count": 15,
   "metadata": {},
   "outputs": [
    {
     "data": {
      "image/png": "[encoded data removed]",
      "text/plain": [
       "<Figure size 800x600 with 1 Axes>"
      ]
     },
     "metadata": {},
     "output_type": "display_data"
    }
   ],
   "source": [
    "plt. figure(figsize=(8, 6))\n",
    "sns.histplot(data['Yearly Amount Spent'], kde=True, bins=20, stat='density')\n",
    "plt. title('Distribution of Impressions From Home')\n",
    "plt.xlabel('From Home')\n",
    "plt. ylabel('Density')\n",
    "plt. show()"
   ]
  },
  {
   "cell_type": "code",
   "execution_count": 16,
   "metadata": {},
   "outputs": [
    {
     "data": {
      "application/vnd.plotly.v1+json": {
       "config": {
        "plotlyServerURL": "https://plot.ly"
       },
       "data": [
        {
         "hovertemplate": "Time on Website=%{x}<br>Yearly Amount Spent=%{y}<extra></extra>",
         "legendgroup": "",
         "marker": {
          "color": "#636efa",
          "symbol": "circle"
         },
         "mode": "markers",
         "name": "",
         "orientation": "v",
         "showlegend": false,
         "type": "scatter",
         "x": [
          39.57766801952616,
          37.268958868297744,
          37.11059744212085,
          36.72128267790313,
          37.53665330059473,
          34.47687762925054,
          36.683776152869605,
          37.373358858547554,
          37.534497341555735,
          37.14516822352819,
          37.22580613162114,
          37.087926070983805,
          37.42021557502538,
          36.14466670004192,
          36.61995708279922,
          36.213763093698624,
          34.8940927514398,
          38.38513659413844,
          38.24411459434352,
          37.19050380039796,
          37.60779252420698,
          37.44102133556604,
          38.73400628989712,
          36.77260376125875,
          37.63575587790592,
          37.73852494557909,
          36.430649621049305,
          37.85177916943607,
          35.29308775436051,
          37.27781174207212,
          36.16364817104465,
          35.62244242064545,
          35.69417498569782,
          38.878040506759845,
          35.36862632536302,
          38.76864099802668,
          36.7657223578584,
          37.0443614002997,
          37.38831486719822,
          36.37147981406854,
          37.53429101112127,
          37.49669014561275,
          37.14286198458455,
          36.888086054199256,
          36.11243501077792,
          39.13109673366661,
          37.33544589432572,
          36.46200325853961,
          36.58272776540628,
          36.59445670006827,
          37.78026468722867,
          37.266878259420906,
          37.45340510152358,
          35.93344930095986,
          38.46832110587932,
          35.25224202243303,
          39.25293095040623,
          36.17312563197192,
          36.81401056250368,
          37.271221692501925,
          38.05260975257308,
          36.49399254673739,
          37.99702800956553,
          37.4087484767376,
          36.60077705432864,
          37.15762409406526,
          35.358444307206696,
          36.375066106372905,
          37.68040322813719,
          40.005181638101895,
          36.265000697022046,
          36.1571911511149,
          38.00658317947767,
          37.03153921676629,
          38.260353442660126,
          38.73086173541955,
          36.628834292811774,
          35.89243163440533,
          38.21257083414733,
          36.91463331144087,
          39.6003764658614,
          35.88399438701215,
          37.0589128165069,
          37.78114255999947,
          36.15725594420065,
          36.182539282355286,
          37.15192066097144,
          36.81909551318471,
          36.951616684246815,
          36.1050004999139,
          37.87521910003027,
          36.77312349371806,
          36.05024078202619,
          37.72438615760942,
          36.63385670229112,
          38.633625651583536,
          38.06341358683894,
          37.827394227862136,
          39.074400211336965,
          35.89035795567322,
          35.9904889547585,
          37.385317552778375,
          37.58019042917731,
          36.26203180012439,
          38.07445241970454,
          35.84582711383271,
          36.15246208860067,
          37.71250863884946,
          38.16643555663392,
          38.5030088492416,
          37.32533422381935,
          37.71598617762173,
          38.415041581538325,
          37.3096887708795,
          35.60082054911087,
          37.69230086128235,
          36.701052315547926,
          35.9990993016087,
          38.3099078951232,
          37.54052035512257,
          35.00748225744693,
          37.67321036564864,
          37.38794554263559,
          36.5496679900966,
          37.57016384471318,
          37.09326487011031,
          36.63465232853774,
          37.14600652898046,
          36.71413783923341,
          37.526421027792445,
          37.245032469967526,
          38.94882502753235,
          37.41413357473937,
          36.599112354294384,
          37.42454792226391,
          36.10091445210865,
          36.59436168489157,
          36.4944064828881,
          37.45837473122323,
          37.327282689879496,
          36.59937399114725,
          35.97765170714366,
          35.73055240228659,
          39.29404346247573,
          38.27470219571763,
          36.51838358912681,
          37.23200330765404,
          37.33866962178549,
          36.95155521050133,
          36.584437621758106,
          38.3072040068692,
          37.431159098326106,
          37.396497475332055,
          36.96638889642577,
          36.95964319393419,
          37.23880567308968,
          37.32784803784372,
          33.91384724758464,
          39.09462702670515,
          38.304471191707776,
          38.03910938707497,
          35.01280603355904,
          38.31136489758187,
          36.93615937845674,
          37.65861690944284,
          37.66110668399285,
          38.9240870506292,
          35.037856159447585,
          36.4077474507818,
          37.63300941664362,
          37.57883524203316,
          36.87831536782346,
          35.90729842685246,
          36.93988205032054,
          38.83567008085342,
          37.480911976267066,
          38.57651554990162,
          36.81385766052378,
          35.6742560274292,
          37.81915511227683,
          37.9596843202141,
          38.856041708111945,
          37.67924462448078,
          37.25305774145061,
          36.0869343253416,
          37.06462119956545,
          36.54550622682937,
          37.964390331775896,
          36.094241952849465,
          38.23260622710401,
          37.63529940965426,
          37.15315160406014,
          35.49396408005127,
          36.33780003116479,
          37.90913871755985,
          37.278639793707605,
          37.1020313268591,
          37.42676891745393,
          37.28139282998597,
          35.90772142967966,
          36.67822227440393,
          36.04545942048616,
          37.03951365322458,
          38.68870909942437,
          35.45986279714474,
          37.952013186883086,
          38.252978273334655,
          36.77601657686874,
          35.53386350026307,
          37.77736579677647,
          38.13171202563648,
          36.05964597986499,
          38.76429717446252,
          35.773116391246816,
          36.54466409871873,
          34.89198326749108,
          38.35495987026449,
          36.22355746230224,
          37.12234520816764,
          35.73870747121452,
          37.743619699549896,
          37.67502073290805,
          38.585854757332655,
          36.28872395038688,
          37.71777057005867,
          36.14390845634163,
          37.073616172195656,
          37.60565280041329,
          36.65127791701514,
          37.9514894585739,
          35.57484166706179,
          37.25803145871123,
          37.79223754313027,
          37.33281445580523,
          37.07679515601331,
          35.96889569049678,
          37.37011822360151,
          37.06708996741924,
          36.97119509745716,
          38.57360522634684,
          36.90937820695247,
          36.097220934711,
          39.08156474568163,
          36.94612578169275,
          35.96566746423624,
          37.68933697894965,
          36.32365246819823,
          37.52319665049046,
          36.947953692845566,
          36.84473381504451,
          37.19279353222784,
          34.84561239331277,
          36.13389429009422,
          36.19975347391624,
          36.67387835766538,
          39.22071295098572,
          36.36024719793431,
          36.63610411908917,
          38.99332245115573,
          37.37276214632111,
          37.37418350489759,
          36.655208083959465,
          36.85481082475086,
          38.238940853091385,
          36.52738830431376,
          37.34126616101072,
          37.97982686004657,
          36.853882459920776,
          36.8227532265912,
          37.29204470528371,
          38.655094538522064,
          36.22604169397467,
          36.76860309148005,
          36.57513377612486,
          35.669935165958194,
          37.74560774187829,
          36.876313233417314,
          36.897294609068695,
          37.74469969514907,
          37.02687697079434,
          37.55088041321525,
          38.4194685327455,
          37.78903634703419,
          35.675727630820134,
          38.71707629773135,
          36.62077385548951,
          35.7218273299056,
          39.06886445133981,
          35.74277912557426,
          38.55103028983871,
          37.26387556144864,
          37.03479128933126,
          35.94639914639545,
          34.81063145023747,
          37.24032955207884,
          36.19083323650043,
          37.0616887661275,
          38.61733445368848,
          35.62658733096311,
          35.97656497174036,
          36.98591347608606,
          38.06692960186935,
          37.80697766984659,
          36.92504303887863,
          36.57503097579012,
          36.33952101023726,
          36.25781911850192,
          37.36839124072731,
          36.5170857636486,
          35.46240008104617,
          36.54860515461888,
          36.54759627699103,
          36.315763151803424,
          35.622530591605994,
          37.87095205416159,
          37.53453024067718,
          37.27757337619507,
          36.60950715426321,
          36.90022076162611,
          37.19419104646396,
          38.296110372778266,
          37.33310741829708,
          36.14579171248221,
          37.64629178743077,
          37.22939451627662,
          36.31272657154038,
          38.44276668680506,
          37.38718052656558,
          38.04031366664072,
          35.92159518889928,
          37.08884657968332,
          37.1088163801084,
          37.93518904595916,
          35.86244707788159,
          36.59586794587455,
          39.24880390433504,
          38.26906069147024,
          37.42899736939191,
          38.0706642585136,
          37.33224074655334,
          36.77386136993079,
          37.76668677332467,
          35.77778217066089,
          37.95780983454751,
          37.84065507750671,
          37.97738873797974,
          35.82346666642284,
          37.83397172859896,
          34.897827688311345,
          36.37750903434099,
          37.33359061333867,
          38.19748324839899,
          36.88119240747175,
          35.90025278215821,
          35.12882235312117,
          35.9745781075859,
          37.76369040280343,
          37.49189221040693,
          35.71626915951701,
          37.65040020345744,
          36.04898625036686,
          39.04515569638811,
          36.91495154541398,
          35.444264696393994,
          37.922703809566,
          38.00182746752369,
          36.841491638054855,
          35.93896250240334,
          36.232109802584205,
          37.90601452014432,
          37.76304108154524,
          38.11045690682496,
          36.9569654250941,
          37.088319364334765,
          38.04345265084127,
          36.90818962373682,
          37.68546548721554,
          35.78392374450292,
          36.66579136924871,
          38.29572526401705,
          35.55077226680613,
          37.951946317735135,
          37.34573893439929,
          35.42933438847124,
          36.18913179541947,
          34.57402758718963,
          38.95246252162795,
          34.48718474774243,
          36.17049420248099,
          37.02715036476952,
          36.8821490815068,
          37.31770494919684,
          37.128039498322295,
          36.155336204959546,
          38.38195597213616,
          37.86921693600857,
          35.565436237139735,
          36.04620351842453,
          38.918748541019504,
          37.19936752783635,
          37.329818625212354,
          36.5173461200418,
          37.30596141998359,
          38.31564796064117,
          36.688366542504845,
          37.05261630809583,
          35.56917031744619,
          38.50588332918249,
          36.99529016635977,
          35.18912244437772,
          38.77566529611688,
          36.98504141740091,
          35.9380452301724,
          36.72902940108787,
          37.62690680204789,
          38.79123468689964,
          37.6373109611636,
          36.95395970110429,
          37.07437106706513,
          36.01231723045213,
          37.14209368933963,
          36.72527682557127,
          36.393683855020775,
          36.68339299807869,
          37.86144725932397,
          36.456898410524325,
          37.23984661097634,
          39.67259095594186,
          37.02226898591233,
          38.42286529341121,
          38.40137368953426,
          36.61119877576035,
          35.63211221551042,
          36.30854529439036,
          36.35250276938114,
          37.023479236405706,
          36.08964365766702,
          39.24096484164356,
          37.18144731064989,
          37.30536187928602,
          36.831535850846905,
          36.97937237345656,
          35.906756365793065,
          37.64583878801402,
          35.4567981489283,
          35.633953947400784,
          36.486325072393406,
          37.80550943244919,
          37.680287608367976,
          37.68387537364701,
          37.64780805527063,
          36.83936583281821,
          36.80837605948795,
          37.72236711094261,
          36.32214091690131,
          35.76615350038372,
          34.77975050203264,
          37.03427958207978,
          36.86218334634355,
          37.42527868006791,
          36.83865678634849,
          35.26149811626243,
          37.21115258135112,
          36.929761561703394,
          38.40632901011416,
          37.67232248424959,
          34.649800047407126,
          36.36684324701071,
          37.48704924855169,
          36.67395273856423,
          36.59928908739349,
          36.378271013194265,
          38.86023443032663,
          36.16646339192148,
          37.0716431982524,
          36.29889307823573,
          38.68258378408295,
          36.16604163340145,
          36.87502580891776,
          38.12651979793058,
          35.769329630500295,
          35.536024530304154,
          36.074551140168914,
          37.198427822725975,
          36.87454360467994,
          36.35523488364423,
          36.53409567089256,
          36.058647603220486,
          38.18776368086846,
          37.13312675937632,
          37.68487727530606,
          36.81293412550146,
          37.83544772741218,
          35.539142427505084,
          37.96597162275134,
          36.4179847963968,
          37.1902677104526,
          38.33257633196044,
          36.84008572976701,
          35.771016191612965
         ],
         "xaxis": "x",
         "y": [
          587.9510539684005,
          392.2049334443264,
          487.54750486747207,
          581.8523440352178,
          599.4060920457634,
          637.102447915074,
          521.5721747578274,
          549.9041461052942,
          570.2004089636195,
          427.19938489532814,
          492.6060127179966,
          522.3374046069357,
          408.64035107262754,
          573.4158673313865,
          470.45273330095546,
          461.7807421962299,
          457.84769594494855,
          407.7045475495441,
          452.31567548003545,
          605.061038804892,
          534.7057438060227,
          419.9387748391792,
          436.51560572936256,
          519.3409891307888,
          700.9170916173961,
          423.17999168059777,
          619.8956398616368,
          486.83893476506273,
          529.537665336851,
          554.7220838330761,
          497.5866713004408,
          447.6879065360586,
          588.7126055095755,
          491.0732236795197,
          507.4418323396167,
          521.8835731664784,
          347.7769266318726,
          490.7386321439546,
          478.1703340540876,
          537.8461952695957,
          532.7517875818365,
          501.8744302842695,
          591.1971781805905,
          547.2443434159983,
          448.22982918655,
          549.860590464497,
          593.915002968289,
          563.6728733601082,
          479.73194908594513,
          416.3583535799008,
          725.5848140556805,
          442.667251738628,
          384.6265715694054,
          451.4574468676027,
          522.40414125956,
          483.6733080190456,
          520.8987944502368,
          453.16950235469744,
          496.650708068581,
          547.3651405940458,
          616.8515229667128,
          507.21256900067846,
          613.5993233689068,
          483.15972078451705,
          540.2634004105403,
          765.5184619388372,
          553.6015346844503,
          469.3108614953106,
          408.62018782983785,
          451.575685159493,
          444.96655165329264,
          595.8228366992037,
          418.1500810968496,
          534.7771880994133,
          578.2416050583773,
          478.7193568742153,
          444.2859074976436,
          544.7798637193825,
          488.7860610939056,
          475.759067788328,
          489.8124879964614,
          462.8976361529081,
          596.4301726172283,
          338.3198626415221,
          533.5149352552407,
          536.7718993628412,
          487.3793060170291,
          473.7289665129948,
          547.1259317471988,
          505.1133435398579,
          449.0703194428044,
          611.0000251040717,
          515.8288148548279,
          439.074766741645,
          514.088957746572,
          543.340166256701,
          521.1429518103512,
          614.7153338263417,
          507.39006178986654,
          495.2994425473086,
          518.0645579840107,
          390.1032729724755,
          420.7376732446371,
          492.1050523891852,
          410.06961105998295,
          497.5136833293677,
          494.55186108657256,
          378.3309069068038,
          570.451725912857,
          549.0082269346927,
          459.285123462352,
          492.94505306595823,
          424.7626355099111,
          422.42677587650905,
          642.1015787311585,
          413.3717831104521,
          479.23109291159307,
          593.0772413447512,
          506.5473070543516,
          571.3074948754644,
          576.311177371677,
          576.8025473995871,
          514.239520718957,
          495.17595044947535,
          514.3365582674007,
          541.2265839893283,
          516.8315566841785,
          468.4457372274064,
          548.2803201983364,
          431.6177337614297,
          552.9403454501057,
          573.3062222574563,
          452.627254995083,
          542.7115581025776,
          407.8040306356823,
          482.3535703213531,
          529.2300901235094,
          433.0487690958266,
          476.1914133494556,
          439.997879939927,
          448.9332932076743,
          472.9922466667984,
          463.9235129903258,
          350.0582001638451,
          460.0612773912433,
          505.7711403229565,
          463.484995404266,
          479.73193764530447,
          424.18549428888633,
          465.8893127108669,
          426.7752159856604,
          684.1634310159513,
          555.8925953881737,
          657.019923937652,
          595.8038188761142,
          503.9783790525795,
          586.1558701804728,
          744.2218671047146,
          512.8253581285203,
          528.2238093680072,
          468.9135013219844,
          357.59143941508603,
          536.4231045259343,
          490.2065999848546,
          550.0475805761635,
          513.4505711860965,
          497.8119300055205,
          578.9862585804898,
          506.5363931400864,
          501.74923330839226,
          421.96679418586734,
          439.8912804768136,
          666.125591725772,
          298.76200786180766,
          465.1766233052969,
          373.8857236969501,
          532.7174856761748,
          554.9007830202702,
          537.7731625414566,
          501.100245232053,
          517.1651355939779,
          557.5292736134538,
          493.719192978176,
          452.1226250857849,
          577.2734549822936,
          485.9231305248517,
          425.7450920310528,
          537.2150526997326,
          524.6379646141049,
          478.8853913201482,
          612.3852298963607,
          476.7667241547634,
          505.1196375282037,
          545.9454921414049,
          434.0216997527185,
          424.6752810132133,
          352.5501081630003,
          662.9610878058954,
          560.5601606242603,
          467.5019004269896,
          504.8704323933724,
          590.56271964715,
          443.9656268098819,
          392.4973991890214,
          568.7175759305223,
          712.3963268096636,
          413.29599918102974,
          562.0820453929382,
          412.012931298847,
          468.6684655991273,
          496.55408163560713,
          548.5185292758069,
          536.1308968550214,
          558.4272571753238,
          357.8637186383917,
          529.0566631985306,
          387.35707273642186,
          528.9336185650203,
          420.91615953269286,
          496.9334462555319,
          519.372976801355,
          591.4377355684503,
          502.4097853029053,
          604.3348400688554,
          555.068394054576,
          256.67058229005585,
          547.1109823629461,
          461.92087689289787,
          458.3769106506301,
          436.2834981467513,
          532.9352188376637,
          512.5525343564015,
          630.4227632299235,
          463.74598112062944,
          493.18021624931,
          501.2091726816533,
          501.9282648732441,
          376.3369007569242,
          421.3266312569514,
          538.774933478023,
          398.163468533652,
          571.4710341154246,
          451.6286105401996,
          490.6004425003995,
          591.7810894256675,
          409.0704720533178,
          563.4460356732392,
          647.6194557251926,
          448.34042501104767,
          518.7864830920807,
          523.6339351357243,
          393.8573709860865,
          426.154547713103,
          503.3878872879605,
          482.6024673294826,
          524.7976275698039,
          574.6548433659395,
          574.7472196620896,
          660.4251842914138,
          375.3984554102431,
          640.1877400085721,
          514.0098178487356,
          376.496840718537,
          484.5198091105511,
          614.7296376283244,
          567.4750105270774,
          554.003093429799,
          399.98387159812256,
          479.17285149109694,
          585.9318442972224,
          540.9957391083377,
          628.0478039330167,
          582.4919237338106,
          640.7861663983061,
          446.4186733701357,
          570.6300980875259,
          423.3083340974698,
          616.6602860166826,
          530.3624688854229,
          442.3631173838644,
          511.9798599920658,
          560.4437921717631,
          475.26342372754846,
          374.2696745439231,
          463.59141802794056,
          471.602884392892,
          626.018672655394,
          432.47206125141577,
          356.6155678900057,
          467.4278485003528,
          503.2173931191067,
          378.4735664479011,
          584.2183134866808,
          451.7278633175868,
          557.6341089957288,
          432.7207178399336,
          506.4238599698002,
          510.1598172791045,
          587.5747994806404,
          282.4712457199145,
          473.94985742281614,
          489.90805309753534,
          541.9722037582585,
          266.086340948469,
          494.6871558102853,
          689.7876041747194,
          387.5347163057077,
          441.8966315178863,
          604.8413188212227,
          302.189547809652,
          479.6148116731426,
          506.132342437705,
          319.9288698031936,
          528.3092250312227,
          610.1280331303979,
          584.1058850493533,
          466.4211988217437,
          404.8245288726869,
          564.7909690079206,
          596.516697973153,
          368.65478494706446,
          542.4124767293989,
          478.26212639683575,
          473.360495571661,
          559.1990479544186,
          447.1876443054186,
          505.23006828207065,
          557.2526867470547,
          422.3687366068266,
          445.0621855089249,
          442.0644137580656,
          533.0400601788124,
          424.2028270990325,
          498.635598489176,
          330.5944460341002,
          443.4418600624623,
          478.600915944333,
          440.0027475469415,
          357.7831107453153,
          476.139246872566,
          501.1224915036564,
          592.6884532021675,
          486.0834255029927,
          576.0252441251166,
          442.7228915742714,
          461.7909590614097,
          488.387525780145,
          593.1564014822196,
          392.8103449837973,
          443.19722102875545,
          535.4807751896418,
          533.3965537868428,
          532.1274491097012,
          558.9481123879059,
          508.771906741518,
          403.7669020956173,
          640.5840618984408,
          461.62827839108616,
          382.4161078654751,
          561.874657668983,
          444.57614413373005,
          401.0331352191061,
          384.3260571375157,
          527.7829957560522,
          482.144996875768,
          594.2744834186117,
          502.0925279023197,
          407.657178759326,
          708.9351848669819,
          531.9615505451646,
          521.2407802357948,
          447.3690271993314,
          385.152337987975,
          430.58888255648486,
          418.602742095224,
          478.9514047578855,
          483.7965220614929,
          538.941974531203,
          486.1637990666317,
          385.0950070687634,
          527.7837897574573,
          547.1907493518986,
          410.6029439492151,
          583.9778019715428,
          474.5323294398898,
          414.9350606518193,
          550.8133677324173,
          458.78113168424994,
          407.5421680134348,
          581.3089328795,
          546.5566668627299,
          503.1750851912004,
          549.131573287217,
          482.8309858617018,
          557.6082620533542,
          484.87696493512857,
          669.9871405017029,
          547.7099885778625,
          537.8252822957112,
          408.2169017707518,
          663.0748176067602,
          506.37586675019753,
          528.4193296952955,
          632.1235881419656,
          488.2702979651482,
          508.7357409506604,
          411.1869635742789,
          409.09452619233787,
          467.8009243667916,
          512.165866388158,
          608.2718166151668,
          589.0264897562791,
          444.0538265727727,
          493.18126139071865,
          532.724805462904,
          275.9184206503857,
          511.0387860511611,
          438.4177420114685,
          475.7250679098812,
          483.54319386538816,
          663.8036932755082,
          544.4092721605869,
          630.1567281670505,
          461.11224843060927,
          491.9115050963458,
          574.4156896079882,
          530.766718654762,
          581.7987976770314,
          556.2981411740467,
          502.132789227254,
          556.1863688687886,
          475.0716298996618,
          486.9470538397658,
          434.1442020262987,
          304.1355915788555,
          571.2160048349454,
          583.0796356620574,
          445.74984123965226,
          392.9922559140308,
          565.9943634015268,
          499.1401524490539,
          510.5394216996283,
          308.52774655803336,
          561.5165319790891,
          423.4705331738239,
          513.1531118530668,
          529.1945188649573,
          314.4385182951061,
          478.5842860083426,
          444.5821649786528,
          475.0154070877503,
          436.7205558562188,
          521.1953105318003,
          478.1830597118797,
          432.48116855701767,
          438.30370784642975,
          388.9405487921943,
          534.7714849461672,
          537.9157529213054,
          407.8763782204976,
          618.8459704239658,
          502.77107456549606,
          397.420584096457,
          392.2852442462675,
          689.2356997616951,
          543.1326262891694,
          577.7360248512277,
          436.5807403475482,
          553.9946735912697,
          427.3565308022928,
          424.7287739291025,
          541.0498309594356,
          469.38314617236114,
          444.5455496511082,
          492.55683370047706,
          535.3216100850124,
          408.9583359406166,
          487.5554580579016,
          487.64623174384167,
          402.1671222237256,
          551.0230017027826,
          497.38955775884335,
          494.6386097568927,
          479.2474167840931,
          462.65651893471335,
          515.5024796636585,
          576.4776071703129,
          357.85798360521926,
          597.7398788791847,
          327.37795258965207,
          510.4013884525048,
          510.50147847479735,
          403.8195198321978,
          627.603318713015,
          510.661792219672,
          573.8474377162277,
          529.0490041294304,
          551.6201454762476,
          456.469510066298,
          497.7786422156802
         ],
         "yaxis": "y"
        }
       ],
       "layout": {
        "legend": {
         "tracegroupgap": 0
        },
        "template": {
         "data": {
          "bar": [
           {
            "error_x": {
             "color": "#2a3f5f"
            },
            "error_y": {
             "color": "#2a3f5f"
            },
            "marker": {
             "line": {
              "color": "#E5ECF6",
              "width": 0.5
             },
             "pattern": {
              "fillmode": "overlay",
              "size": 10,
              "solidity": 0.2
             }
            },
            "type": "bar"
           }
          ],
          "barpolar": [
           {
            "marker": {
             "line": {
              "color": "#E5ECF6",
              "width": 0.5
             },
             "pattern": {
              "fillmode": "overlay",
              "size": 10,
              "solidity": 0.2
             }
            },
            "type": "barpolar"
           }
          ],
          "carpet": [
           {
            "aaxis": {
             "endlinecolor": "#2a3f5f",
             "gridcolor": "white",
             "linecolor": "white",
             "minorgridcolor": "white",
             "startlinecolor": "#2a3f5f"
            },
            "baxis": {
             "endlinecolor": "#2a3f5f",
             "gridcolor": "white",
             "linecolor": "white",
             "minorgridcolor": "white",
             "startlinecolor": "#2a3f5f"
            },
            "type": "carpet"
           }
          ],
          "choropleth": [
           {
            "colorbar": {
             "outlinewidth": 0,
             "ticks": ""
            },
            "type": "choropleth"
           }
          ],
          "contour": [
           {
            "colorbar": {
             "outlinewidth": 0,
             "ticks": ""
            },
            "colorscale": [
             [
              0,
              "#0d0887"
             ],
             [
              0.1111111111111111,
              "#46039f"
             ],
             [
              0.2222222222222222,
              "#7201a8"
             ],
             [
              0.3333333333333333,
              "#9c179e"
             ],
             [
              0.4444444444444444,
              "#bd3786"
             ],
             [
              0.5555555555555556,
              "#d8576b"
             ],
             [
              0.6666666666666666,
              "#ed7953"
             ],
             [
              0.7777777777777778,
              "#fb9f3a"
             ],
             [
              0.8888888888888888,
              "#fdca26"
             ],
             [
              1,
              "#f0f921"
             ]
            ],
            "type": "contour"
           }
          ],
          "contourcarpet": [
           {
            "colorbar": {
             "outlinewidth": 0,
             "ticks": ""
            },
            "type": "contourcarpet"
           }
          ],
          "heatmap": [
           {
            "colorbar": {
             "outlinewidth": 0,
             "ticks": ""
            },
            "colorscale": [
             [
              0,
              "#0d0887"
             ],
             [
              0.1111111111111111,
              "#46039f"
             ],
             [
              0.2222222222222222,
              "#7201a8"
             ],
             [
              0.3333333333333333,
              "#9c179e"
             ],
             [
              0.4444444444444444,
              "#bd3786"
             ],
             [
              0.5555555555555556,
              "#d8576b"
             ],
             [
              0.6666666666666666,
              "#ed7953"
             ],
             [
              0.7777777777777778,
              "#fb9f3a"
             ],
             [
              0.8888888888888888,
              "#fdca26"
             ],
             [
              1,
              "#f0f921"
             ]
            ],
            "type": "heatmap"
           }
          ],
          "heatmapgl": [
           {
            "colorbar": {
             "outlinewidth": 0,
             "ticks": ""
            },
            "colorscale": [
             [
              0,
              "#0d0887"
             ],
             [
              0.1111111111111111,
              "#46039f"
             ],
             [
              0.2222222222222222,
              "#7201a8"
             ],
             [
              0.3333333333333333,
              "#9c179e"
             ],
             [
              0.4444444444444444,
              "#bd3786"
             ],
             [
              0.5555555555555556,
              "#d8576b"
             ],
             [
              0.6666666666666666,
              "#ed7953"
             ],
             [
              0.7777777777777778,
              "#fb9f3a"
             ],
             [
              0.8888888888888888,
              "#fdca26"
             ],
             [
              1,
              "#f0f921"
             ]
            ],
            "type": "heatmapgl"
           }
          ],
          "histogram": [
           {
            "marker": {
             "pattern": {
              "fillmode": "overlay",
              "size": 10,
              "solidity": 0.2
             }
            },
            "type": "histogram"
           }
          ],
          "histogram2d": [
           {
            "colorbar": {
             "outlinewidth": 0,
             "ticks": ""
            },
            "colorscale": [
             [
              0,
              "#0d0887"
             ],
             [
              0.1111111111111111,
              "#46039f"
             ],
             [
              0.2222222222222222,
              "#7201a8"
             ],
             [
              0.3333333333333333,
              "#9c179e"
             ],
             [
              0.4444444444444444,
              "#bd3786"
             ],
             [
              0.5555555555555556,
              "#d8576b"
             ],
             [
              0.6666666666666666,
              "#ed7953"
             ],
             [
              0.7777777777777778,
              "#fb9f3a"
             ],
             [
              0.8888888888888888,
              "#fdca26"
             ],
             [
              1,
              "#f0f921"
             ]
            ],
            "type": "histogram2d"
           }
          ],
          "histogram2dcontour": [
           {
            "colorbar": {
             "outlinewidth": 0,
             "ticks": ""
            },
            "colorscale": [
             [
              0,
              "#0d0887"
             ],
             [
              0.1111111111111111,
              "#46039f"
             ],
             [
              0.2222222222222222,
              "#7201a8"
             ],
             [
              0.3333333333333333,
              "#9c179e"
             ],
             [
              0.4444444444444444,
              "#bd3786"
             ],
             [
              0.5555555555555556,
              "#d8576b"
             ],
             [
              0.6666666666666666,
              "#ed7953"
             ],
             [
              0.7777777777777778,
              "#fb9f3a"
             ],
             [
              0.8888888888888888,
              "#fdca26"
             ],
             [
              1,
              "#f0f921"
             ]
            ],
            "type": "histogram2dcontour"
           }
          ],
          "mesh3d": [
           {
            "colorbar": {
             "outlinewidth": 0,
             "ticks": ""
            },
            "type": "mesh3d"
           }
          ],
          "parcoords": [
           {
            "line": {
             "colorbar": {
              "outlinewidth": 0,
              "ticks": ""
             }
            },
            "type": "parcoords"
           }
          ],
          "pie": [
           {
            "automargin": true,
            "type": "pie"
           }
          ],
          "scatter": [
           {
            "fillpattern": {
             "fillmode": "overlay",
             "size": 10,
             "solidity": 0.2
            },
            "type": "scatter"
           }
          ],
          "scatter3d": [
           {
            "line": {
             "colorbar": {
              "outlinewidth": 0,
              "ticks": ""
             }
            },
            "marker": {
             "colorbar": {
              "outlinewidth": 0,
              "ticks": ""
             }
            },
            "type": "scatter3d"
           }
          ],
          "scattercarpet": [
           {
            "marker": {
             "colorbar": {
              "outlinewidth": 0,
              "ticks": ""
             }
            },
            "type": "scattercarpet"
           }
          ],
          "scattergeo": [
           {
            "marker": {
             "colorbar": {
              "outlinewidth": 0,
              "ticks": ""
             }
            },
            "type": "scattergeo"
           }
          ],
          "scattergl": [
           {
            "marker": {
             "colorbar": {
              "outlinewidth": 0,
              "ticks": ""
             }
            },
            "type": "scattergl"
           }
          ],
          "scattermapbox": [
           {
            "marker": {
             "colorbar": {
              "outlinewidth": 0,
              "ticks": ""
             }
            },
            "type": "scattermapbox"
           }
          ],
          "scatterpolar": [
           {
            "marker": {
             "colorbar": {
              "outlinewidth": 0,
              "ticks": ""
             }
            },
            "type": "scatterpolar"
           }
          ],
          "scatterpolargl": [
           {
            "marker": {
             "colorbar": {
              "outlinewidth": 0,
              "ticks": ""
             }
            },
            "type": "scatterpolargl"
           }
          ],
          "scatterternary": [
           {
            "marker": {
             "colorbar": {
              "outlinewidth": 0,
              "ticks": ""
             }
            },
            "type": "scatterternary"
           }
          ],
          "surface": [
           {
            "colorbar": {
             "outlinewidth": 0,
             "ticks": ""
            },
            "colorscale": [
             [
              0,
              "#0d0887"
             ],
             [
              0.1111111111111111,
              "#46039f"
             ],
             [
              0.2222222222222222,
              "#7201a8"
             ],
             [
              0.3333333333333333,
              "#9c179e"
             ],
             [
              0.4444444444444444,
              "#bd3786"
             ],
             [
              0.5555555555555556,
              "#d8576b"
             ],
             [
              0.6666666666666666,
              "#ed7953"
             ],
             [
              0.7777777777777778,
              "#fb9f3a"
             ],
             [
              0.8888888888888888,
              "#fdca26"
             ],
             [
              1,
              "#f0f921"
             ]
            ],
            "type": "surface"
           }
          ],
          "table": [
           {
            "cells": {
             "fill": {
              "color": "#EBF0F8"
             },
             "line": {
              "color": "white"
             }
            },
            "header": {
             "fill": {
              "color": "#C8D4E3"
             },
             "line": {
              "color": "white"
             }
            },
            "type": "table"
           }
          ]
         },
         "layout": {
          "annotationdefaults": {
           "arrowcolor": "#2a3f5f",
           "arrowhead": 0,
           "arrowwidth": 1
          },
          "autotypenumbers": "strict",
          "coloraxis": {
           "colorbar": {
            "outlinewidth": 0,
            "ticks": ""
           }
          },
          "colorscale": {
           "diverging": [
            [
             0,
             "#8e0152"
            ],
            [
             0.1,
             "#c51b7d"
            ],
            [
             0.2,
             "#de77ae"
            ],
            [
             0.3,
             "#f1b6da"
            ],
            [
             0.4,
             "#fde0ef"
            ],
            [
             0.5,
             "#f7f7f7"
            ],
            [
             0.6,
             "#e6f5d0"
            ],
            [
             0.7,
             "#b8e186"
            ],
            [
             0.8,
             "#7fbc41"
            ],
            [
             0.9,
             "#4d9221"
            ],
            [
             1,
             "#276419"
            ]
           ],
           "sequential": [
            [
             0,
             "#0d0887"
            ],
            [
             0.1111111111111111,
             "#46039f"
            ],
            [
             0.2222222222222222,
             "#7201a8"
            ],
            [
             0.3333333333333333,
             "#9c179e"
            ],
            [
             0.4444444444444444,
             "#bd3786"
            ],
            [
             0.5555555555555556,
             "#d8576b"
            ],
            [
             0.6666666666666666,
             "#ed7953"
            ],
            [
             0.7777777777777778,
             "#fb9f3a"
            ],
            [
             0.8888888888888888,
             "#fdca26"
            ],
            [
             1,
             "#f0f921"
            ]
           ],
           "sequentialminus": [
            [
             0,
             "#0d0887"
            ],
            [
             0.1111111111111111,
             "#46039f"
            ],
            [
             0.2222222222222222,
             "#7201a8"
            ],
            [
             0.3333333333333333,
             "#9c179e"
            ],
            [
             0.4444444444444444,
             "#bd3786"
            ],
            [
             0.5555555555555556,
             "#d8576b"
            ],
            [
             0.6666666666666666,
             "#ed7953"
            ],
            [
             0.7777777777777778,
             "#fb9f3a"
            ],
            [
             0.8888888888888888,
             "#fdca26"
            ],
            [
             1,
             "#f0f921"
            ]
           ]
          },
          "colorway": [
           "#636efa",
           "#EF553B",
           "#00cc96",
           "#ab63fa",
           "#FFA15A",
           "#19d3f3",
           "#FF6692",
           "#B6E880",
           "#FF97FF",
           "#FECB52"
          ],
          "font": {
           "color": "#2a3f5f"
          },
          "geo": {
           "bgcolor": "white",
           "lakecolor": "white",
           "landcolor": "#E5ECF6",
           "showlakes": true,
           "showland": true,
           "subunitcolor": "white"
          },
          "hoverlabel": {
           "align": "left"
          },
          "hovermode": "closest",
          "mapbox": {
           "style": "light"
          },
          "paper_bgcolor": "white",
          "plot_bgcolor": "#E5ECF6",
          "polar": {
           "angularaxis": {
            "gridcolor": "white",
            "linecolor": "white",
            "ticks": ""
           },
           "bgcolor": "#E5ECF6",
           "radialaxis": {
            "gridcolor": "white",
            "linecolor": "white",
            "ticks": ""
           }
          },
          "scene": {
           "xaxis": {
            "backgroundcolor": "#E5ECF6",
            "gridcolor": "white",
            "gridwidth": 2,
            "linecolor": "white",
            "showbackground": true,
            "ticks": "",
            "zerolinecolor": "white"
           },
           "yaxis": {
            "backgroundcolor": "#E5ECF6",
            "gridcolor": "white",
            "gridwidth": 2,
            "linecolor": "white",
            "showbackground": true,
            "ticks": "",
            "zerolinecolor": "white"
           },
           "zaxis": {
            "backgroundcolor": "#E5ECF6",
            "gridcolor": "white",
            "gridwidth": 2,
            "linecolor": "white",
            "showbackground": true,
            "ticks": "",
            "zerolinecolor": "white"
           }
          },
          "shapedefaults": {
           "line": {
            "color": "#2a3f5f"
           }
          },
          "ternary": {
           "aaxis": {
            "gridcolor": "white",
            "linecolor": "white",
            "ticks": ""
           },
           "baxis": {
            "gridcolor": "white",
            "linecolor": "white",
            "ticks": ""
           },
           "bgcolor": "#E5ECF6",
           "caxis": {
            "gridcolor": "white",
            "linecolor": "white",
            "ticks": ""
           }
          },
          "title": {
           "x": 0.05
          },
          "xaxis": {
           "automargin": true,
           "gridcolor": "white",
           "linecolor": "white",
           "ticks": "",
           "title": {
            "standoff": 15
           },
           "zerolinecolor": "white",
           "zerolinewidth": 2
          },
          "yaxis": {
           "automargin": true,
           "gridcolor": "white",
           "linecolor": "white",
           "ticks": "",
           "title": {
            "standoff": 15
           },
           "zerolinecolor": "white",
           "zerolinewidth": 2
          }
         }
        },
        "title": {
         "text": "Time on Website vs Yearly Amount Spent"
        },
        "xaxis": {
         "anchor": "y",
         "domain": [
          0,
          1
         ],
         "title": {
          "text": "Time on Website"
         }
        },
        "yaxis": {
         "anchor": "x",
         "domain": [
          0,
          1
         ],
         "title": {
          "text": "Yearly Amount Spent"
         }
        }
       }
      }
     },
     "metadata": {},
     "output_type": "display_data"
    }
   ],
   "source": [
    "import plotly.express as px\n",
    "\n",
    "fig = px.scatter(data, x='Time on Website', y='Yearly Amount Spent', title='Time on Website vs Yearly Amount Spent')\n",
    "fig.show()\n"
   ]
  },
  {
   "cell_type": "code",
   "execution_count": 20,
   "metadata": {},
   "outputs": [
    {
     "data": {
      "application/vnd.plotly.v1+json": {
       "config": {
        "plotlyServerURL": "https://plot.ly"
       },
       "data": [
        {
         "hovertemplate": "Time on App=%{x}<br>Yearly Amount Spent=%{y}<extra></extra>",
         "legendgroup": "",
         "marker": {
          "color": "#636efa",
          "symbol": "circle"
         },
         "mode": "markers",
         "name": "",
         "orientation": "v",
         "showlegend": false,
         "type": "scatter",
         "x": [
          12.655651149166752,
          11.109460728682564,
          11.330278057777512,
          13.717513665142508,
          12.795188551078114,
          12.026925339755058,
          11.366348309710526,
          12.35195897300293,
          13.386235275676434,
          11.814128294972196,
          13.338975447662111,
          11.584782999535266,
          10.961298400154098,
          12.959226091609382,
          13.148725692056516,
          12.636606052000127,
          11.733861690857392,
          12.0131946940144,
          14.7153875441565,
          13.989592555825254,
          11.365492025516156,
          12.87798369625634,
          13.378562784168986,
          11.657575922065584,
          12.893669504071738,
          11.765812645482358,
          12.78389178427502,
          13.007819424388568,
          11.982044994015611,
          11.965020002997898,
          12.305417813429443,
          10.869163814130363,
          13.387492105579694,
          13.1045072428758,
          11.634893252550466,
          11.936386499892285,
          11.75502370305383,
          11.984417523634924,
          9.954975969174418,
          12.489013215743665,
          11.733106220383402,
          10.634561317920278,
          12.507525374016035,
          11.52987820576495,
          13.41493473585169,
          12.170525424959395,
          13.14655143290706,
          12.988510147185291,
          11.86412635894251,
          11.398064190096813,
          13.85806246213124,
          10.956790967791653,
          10.320116255059192,
          9.98451439654646,
          12.64519514084352,
          11.588655423353044,
          13.761532847115612,
          10.56829468563276,
          11.832286222863628,
          12.06415663219932,
          12.495591602384836,
          9.607314687519166,
          13.728627177429864,
          11.670065919118978,
          13.276313008175377,
          15.126994288792469,
          12.695789749023144,
          11.835476087614284,
          11.306232344673576,
          11.187538910878676,
          11.887494133971662,
          12.2289347111239,
          10.674653472691904,
          12.817113090284248,
          13.5878060830337,
          12.238057349986248,
          11.55182116621942,
          11.433379933334455,
          10.889566863427978,
          11.928842093866267,
          12.595671305072534,
          10.947258584185183,
          13.898081993497067,
          10.875559548189257,
          10.33807269503854,
          11.634668217942473,
          12.517666287393077,
          10.607723870859086,
          12.8288933950187,
          12.068816079691766,
          12.530357373542882,
          13.516284296962846,
          11.662263431208276,
          13.664747875183542,
          11.83023109487895,
          13.291143045352882,
          11.942340869536071,
          13.349912944366531,
          12.020112091208748,
          12.084091730811034,
          13.410759184940549,
          11.281931074103642,
          11.448901535513796,
          12.595420346380532,
          10.994223919350974,
          13.085505760060858,
          12.190474287309026,
          10.719149740628396,
          12.931550271647987,
          13.45212895943564,
          12.149375491578276,
          12.178331333996288,
          11.010482132400076,
          11.60253219348616,
          12.732211588456623,
          11.223368888365105,
          12.01102187657459,
          11.725910097840954,
          12.089309572437347,
          13.068638584182434,
          12.85499036656409,
          11.56402236806554,
          11.113329897404322,
          12.809883473378118,
          11.76117232548311,
          12.57989417361806,
          11.957923064554109,
          10.651793783474174,
          12.75207661096469,
          11.540832436151057,
          11.924394923280015,
          12.4241304114395,
          11.810586764578169,
          12.759168978762087,
          11.85189083494272,
          12.70368792886871,
          12.215252424902488,
          11.28144500356714,
          10.735362917985055,
          10.963131776054832,
          11.735094549013704,
          12.418961981005012,
          10.537307537840883,
          11.919242397939174,
          11.911415556879854,
          12.48806700205303,
          12.380694979552985,
          10.480506832694497,
          12.296517680733736,
          10.86160419912899,
          10.716355140061571,
          12.387184173554845,
          10.984835888186163,
          12.965761479512215,
          12.050267234380506,
          13.45772494051235,
          12.44304789043987,
          12.207298491050794,
          11.586319529181234,
          11.378087087773377,
          12.364341604455198,
          12.399436075147092,
          12.54248105078634,
          13.280432242922112,
          11.795886676889108,
          12.718039174525655,
          12.039647840787236,
          12.474455453922836,
          13.160020040286032,
          11.052323653306688,
          10.636761083696548,
          13.44340598514625,
          13.28303286832567,
          11.747731701242175,
          10.859608533152713,
          11.691686125826353,
          11.548761439776756,
          11.72400223179126,
          12.178573080885846,
          12.319845062066673,
          11.084360836740512,
          13.1777745337738,
          12.832802836968115,
          11.509047996817198,
          11.85766344472502,
          12.293365838346627,
          10.93325227854703,
          13.332839284456396,
          10.902556227019767,
          12.276981712741968,
          12.038808239866547,
          11.724473856834608,
          11.202669899735568,
          13.378063328893631,
          11.38861261864104,
          10.771074062599588,
          11.818571762285,
          13.808798675105962,
          11.659832840871443,
          13.100109538542808,
          13.067895684999526,
          12.49432293326939,
          11.340035931978807,
          11.199660962300452,
          11.332487778094174,
          13.919494396088172,
          11.03135834040919,
          11.084584086421872,
          10.54264542398311,
          11.79779551488024,
          12.442616548294634,
          12.104542428062686,
          12.378490222808672,
          13.722453676229962,
          12.725909323593957,
          13.68511889962359,
          10.012583366223025,
          11.435533874300315,
          12.354607081759855,
          10.748533655415798,
          11.59187166512224,
          11.236506758754029,
          11.109456333168431,
          12.114944955194904,
          11.866481205181705,
          10.25654903128796,
          12.168596472860555,
          13.085356892368791,
          13.013375627349651,
          10.9839767277944,
          13.105158522307253,
          12.144748536704864,
          13.90991551102909,
          11.395209434440888,
          13.033566182687188,
          11.622777173031125,
          12.600750401563928,
          13.187910985159364,
          13.266760352944496,
          11.752343171850052,
          11.56811634209842,
          12.63857212219212,
          11.388644575171451,
          11.82298329832392,
          12.725677367222987,
          11.201159766003189,
          11.34726361146273,
          14.220979108167343,
          11.546275759510358,
          11.91763618310149,
          12.276056984463208,
          10.131712461927217,
          12.026942222615626,
          13.172287495263063,
          12.326291385476884,
          13.891313421778491,
          12.930928541308226,
          11.379257182400217,
          14.069382336483995,
          10.804890557641668,
          14.426491050422625,
          13.041244588162265,
          11.739743796165987,
          12.49105873801881,
          12.892374513653694,
          11.668866514553862,
          11.777772039564963,
          12.138793877121689,
          12.222967446546058,
          13.402331896928285,
          12.956276605432244,
          12.884124621344766,
          13.325469096138631,
          12.15858523387948,
          11.22654566351062,
          12.461135435006732,
          9.846124908736233,
          13.32541218598226,
          13.677245841523792,
          11.644969546399302,
          13.485008988077055,
          11.620996507575208,
          13.014459152355208,
          11.466984219092826,
          11.684904192367505,
          12.09396635537946,
          14.325654943309248,
          12.914846634589116,
          9.8244017703894,
          12.807751833234732,
          13.05827792714326,
          10.534553499461076,
          11.143433077943628,
          10.982805534662877,
          11.153966054877388,
          11.947175323941773,
          11.47056500466582,
          11.03785041365591,
          11.167356897497289,
          11.562936246652605,
          12.22772827968665,
          13.18681287300118,
          13.394451788942057,
          11.85139874307314,
          12.266503838947584,
          13.459222289832477,
          11.792971821961505,
          10.98574015235435,
          12.637557159364276,
          8.508152176032603,
          11.656592033851751,
          11.966898076780602,
          11.80298577760313,
          12.677401437121034,
          13.032534975943191,
          12.44761745405695,
          12.235659245108506,
          10.973162084317348,
          13.665769794267849,
          13.391120179234008,
          12.96832561098067,
          12.968893130527093,
          10.732131340303663,
          10.952353380458652,
          12.60888879370027,
          13.039511025284968,
          10.999683661085925,
          13.278956228597716,
          10.62794922615627,
          13.185181167368498,
          11.351049011250833,
          12.954811454937932,
          11.73704063527238,
          11.887345302061831,
          10.757130926114415,
          11.612650769570312,
          11.97906148391534,
          12.461147444665416,
          10.079463451952432,
          12.589240561061525,
          14.2880145907663,
          11.917115695587762,
          11.40964461636565,
          12.815392648610311,
          11.673229254101274,
          10.61053651970745,
          12.506548190327935,
          11.304462307422884,
          10.886921180951674,
          12.095889485093478,
          12.692661429739388,
          11.386775551280651,
          10.728418539377822,
          11.936895159842097,
          12.717995102314037,
          10.969802874106238,
          13.420545742201174,
          11.85468192110211,
          11.91885970932454,
          13.149669557991398,
          12.685393899848076,
          10.347876945661575,
          9.316289204373824,
          12.581547729914536,
          11.764447589452988,
          12.644202118863696,
          11.832112231483734,
          10.441235061603203,
          12.729719510423308,
          9.477777607959723,
          10.163179060052556,
          11.608997936221536,
          11.268259230574026,
          11.163159542913276,
          10.101632204781014,
          12.76153127820102,
          12.055340161330117,
          11.935934966559184,
          12.451200012438312,
          12.284467067067208,
          12.782171794760185,
          12.960307128914414,
          9.95399500605983,
          13.130021664776669,
          11.520566788562215,
          10.972554314292411,
          13.53191346185937,
          12.039502370469922,
          10.942069621017652,
          12.664192622515646,
          11.730661394277831,
          11.918670307379347,
          11.514949066574868,
          12.418113202231622,
          13.887275413385504,
          12.846499067474369,
          10.889828283005029,
          12.914570094327916,
          11.568526641744768,
          11.971750786570595,
          13.07869243953642,
          11.956426484854196,
          13.252737094184228,
          13.093537281195058,
          12.527471744522868,
          11.235968954252517,
          12.074830167957376,
          12.045331979699332,
          11.230743306761044,
          11.90784409977911,
          13.05221038516131,
          13.004362005673078,
          11.52352268106905,
          10.314717921893896,
          12.433128529733452,
          10.745188554182882,
          11.016755636715027,
          12.216854693359824,
          12.329147021418828,
          10.8069660677747,
          12.135101396955722,
          12.94155572990243,
          13.300299363336556,
          10.39845771308564,
          11.887800415781037,
          11.591439703136588,
          13.27147504252467,
          12.988220598633102,
          14.039867262521906,
          11.906507762219915,
          11.13714030231066,
          12.902664889103926,
          12.386516256494852,
          11.822721745594304,
          10.9857637851215,
          14.132893457553363,
          11.912210479900578,
          11.481587147836263,
          10.04731473507118,
          12.428736927868275,
          11.965980266792482,
          11.121366060509414,
          8.668349517101323,
          12.504219807675254,
          12.132509111641538,
          11.732991461588078,
          11.946590884981754,
          12.556107616938167,
          12.480701517118195,
          12.594194066191111,
          10.946841939586896,
          11.48419869378604,
          11.120870867123784,
          10.971392430875488,
          11.588948579712495,
          10.706641521307748,
          11.07625934092972,
          12.953262542191796,
          10.572466600106116,
          11.658036814224134,
          13.592512657946294,
          11.371767361249,
          11.233414953540922,
          10.290350765056484,
          14.121783839255324,
          12.41554196333362,
          10.770248917443364,
          12.664390524735165,
          12.667808875387266,
          13.970181074130446,
          11.509253453525044,
          11.405770450141056,
          12.263717676034362,
          12.71070130045925,
          13.471577671948916,
          11.186808718643787,
          11.246812606011584,
          12.357638107209011,
          11.764325958658198,
          11.761883803681748,
          11.550300110865926,
          12.482669924970503,
          11.731364294077403,
          12.21407374586628,
          11.903756682535942,
          12.222483941893726,
          12.005916370756166,
          11.91374515283876,
          12.125401967944384,
          11.30555143041474,
          11.608997070875462,
          11.693058197072652,
          11.201569884684467,
          12.625432642053951,
          13.35063168445937,
          13.566159613087605,
          11.695736293481328,
          11.499409061002083,
          12.391422991118318,
          12.418808324753911
         ],
         "xaxis": "x",
         "y": [
          587.9510539684005,
          392.2049334443264,
          487.54750486747207,
          581.8523440352178,
          599.4060920457634,
          637.102447915074,
          521.5721747578274,
          549.9041461052942,
          570.2004089636195,
          427.19938489532814,
          492.6060127179966,
          522.3374046069357,
          408.64035107262754,
          573.4158673313865,
          470.45273330095546,
          461.7807421962299,
          457.84769594494855,
          407.7045475495441,
          452.31567548003545,
          605.061038804892,
          534.7057438060227,
          419.9387748391792,
          436.51560572936256,
          519.3409891307888,
          700.9170916173961,
          423.17999168059777,
          619.8956398616368,
          486.83893476506273,
          529.537665336851,
          554.7220838330761,
          497.5866713004408,
          447.6879065360586,
          588.7126055095755,
          491.0732236795197,
          507.4418323396167,
          521.8835731664784,
          347.7769266318726,
          490.7386321439546,
          478.1703340540876,
          537.8461952695957,
          532.7517875818365,
          501.8744302842695,
          591.1971781805905,
          547.2443434159983,
          448.22982918655,
          549.860590464497,
          593.915002968289,
          563.6728733601082,
          479.73194908594513,
          416.3583535799008,
          725.5848140556805,
          442.667251738628,
          384.6265715694054,
          451.4574468676027,
          522.40414125956,
          483.6733080190456,
          520.8987944502368,
          453.16950235469744,
          496.650708068581,
          547.3651405940458,
          616.8515229667128,
          507.21256900067846,
          613.5993233689068,
          483.15972078451705,
          540.2634004105403,
          765.5184619388372,
          553.6015346844503,
          469.3108614953106,
          408.62018782983785,
          451.575685159493,
          444.96655165329264,
          595.8228366992037,
          418.1500810968496,
          534.7771880994133,
          578.2416050583773,
          478.7193568742153,
          444.2859074976436,
          544.7798637193825,
          488.7860610939056,
          475.759067788328,
          489.8124879964614,
          462.8976361529081,
          596.4301726172283,
          338.3198626415221,
          533.5149352552407,
          536.7718993628412,
          487.3793060170291,
          473.7289665129948,
          547.1259317471988,
          505.1133435398579,
          449.0703194428044,
          611.0000251040717,
          515.8288148548279,
          439.074766741645,
          514.088957746572,
          543.340166256701,
          521.1429518103512,
          614.7153338263417,
          507.39006178986654,
          495.2994425473086,
          518.0645579840107,
          390.1032729724755,
          420.7376732446371,
          492.1050523891852,
          410.06961105998295,
          497.5136833293677,
          494.55186108657256,
          378.3309069068038,
          570.451725912857,
          549.0082269346927,
          459.285123462352,
          492.94505306595823,
          424.7626355099111,
          422.42677587650905,
          642.1015787311585,
          413.3717831104521,
          479.23109291159307,
          593.0772413447512,
          506.5473070543516,
          571.3074948754644,
          576.311177371677,
          576.8025473995871,
          514.239520718957,
          495.17595044947535,
          514.3365582674007,
          541.2265839893283,
          516.8315566841785,
          468.4457372274064,
          548.2803201983364,
          431.6177337614297,
          552.9403454501057,
          573.3062222574563,
          452.627254995083,
          542.7115581025776,
          407.8040306356823,
          482.3535703213531,
          529.2300901235094,
          433.0487690958266,
          476.1914133494556,
          439.997879939927,
          448.9332932076743,
          472.9922466667984,
          463.9235129903258,
          350.0582001638451,
          460.0612773912433,
          505.7711403229565,
          463.484995404266,
          479.73193764530447,
          424.18549428888633,
          465.8893127108669,
          426.7752159856604,
          684.1634310159513,
          555.8925953881737,
          657.019923937652,
          595.8038188761142,
          503.9783790525795,
          586.1558701804728,
          744.2218671047146,
          512.8253581285203,
          528.2238093680072,
          468.9135013219844,
          357.59143941508603,
          536.4231045259343,
          490.2065999848546,
          550.0475805761635,
          513.4505711860965,
          497.8119300055205,
          578.9862585804898,
          506.5363931400864,
          501.74923330839226,
          421.96679418586734,
          439.8912804768136,
          666.125591725772,
          298.76200786180766,
          465.1766233052969,
          373.8857236969501,
          532.7174856761748,
          554.9007830202702,
          537.7731625414566,
          501.100245232053,
          517.1651355939779,
          557.5292736134538,
          493.719192978176,
          452.1226250857849,
          577.2734549822936,
          485.9231305248517,
          425.7450920310528,
          537.2150526997326,
          524.6379646141049,
          478.8853913201482,
          612.3852298963607,
          476.7667241547634,
          505.1196375282037,
          545.9454921414049,
          434.0216997527185,
          424.6752810132133,
          352.5501081630003,
          662.9610878058954,
          560.5601606242603,
          467.5019004269896,
          504.8704323933724,
          590.56271964715,
          443.9656268098819,
          392.4973991890214,
          568.7175759305223,
          712.3963268096636,
          413.29599918102974,
          562.0820453929382,
          412.012931298847,
          468.6684655991273,
          496.55408163560713,
          548.5185292758069,
          536.1308968550214,
          558.4272571753238,
          357.8637186383917,
          529.0566631985306,
          387.35707273642186,
          528.9336185650203,
          420.91615953269286,
          496.9334462555319,
          519.372976801355,
          591.4377355684503,
          502.4097853029053,
          604.3348400688554,
          555.068394054576,
          256.67058229005585,
          547.1109823629461,
          461.92087689289787,
          458.3769106506301,
          436.2834981467513,
          532.9352188376637,
          512.5525343564015,
          630.4227632299235,
          463.74598112062944,
          493.18021624931,
          501.2091726816533,
          501.9282648732441,
          376.3369007569242,
          421.3266312569514,
          538.774933478023,
          398.163468533652,
          571.4710341154246,
          451.6286105401996,
          490.6004425003995,
          591.7810894256675,
          409.0704720533178,
          563.4460356732392,
          647.6194557251926,
          448.34042501104767,
          518.7864830920807,
          523.6339351357243,
          393.8573709860865,
          426.154547713103,
          503.3878872879605,
          482.6024673294826,
          524.7976275698039,
          574.6548433659395,
          574.7472196620896,
          660.4251842914138,
          375.3984554102431,
          640.1877400085721,
          514.0098178487356,
          376.496840718537,
          484.5198091105511,
          614.7296376283244,
          567.4750105270774,
          554.003093429799,
          399.98387159812256,
          479.17285149109694,
          585.9318442972224,
          540.9957391083377,
          628.0478039330167,
          582.4919237338106,
          640.7861663983061,
          446.4186733701357,
          570.6300980875259,
          423.3083340974698,
          616.6602860166826,
          530.3624688854229,
          442.3631173838644,
          511.9798599920658,
          560.4437921717631,
          475.26342372754846,
          374.2696745439231,
          463.59141802794056,
          471.602884392892,
          626.018672655394,
          432.47206125141577,
          356.6155678900057,
          467.4278485003528,
          503.2173931191067,
          378.4735664479011,
          584.2183134866808,
          451.7278633175868,
          557.6341089957288,
          432.7207178399336,
          506.4238599698002,
          510.1598172791045,
          587.5747994806404,
          282.4712457199145,
          473.94985742281614,
          489.90805309753534,
          541.9722037582585,
          266.086340948469,
          494.6871558102853,
          689.7876041747194,
          387.5347163057077,
          441.8966315178863,
          604.8413188212227,
          302.189547809652,
          479.6148116731426,
          506.132342437705,
          319.9288698031936,
          528.3092250312227,
          610.1280331303979,
          584.1058850493533,
          466.4211988217437,
          404.8245288726869,
          564.7909690079206,
          596.516697973153,
          368.65478494706446,
          542.4124767293989,
          478.26212639683575,
          473.360495571661,
          559.1990479544186,
          447.1876443054186,
          505.23006828207065,
          557.2526867470547,
          422.3687366068266,
          445.0621855089249,
          442.0644137580656,
          533.0400601788124,
          424.2028270990325,
          498.635598489176,
          330.5944460341002,
          443.4418600624623,
          478.600915944333,
          440.0027475469415,
          357.7831107453153,
          476.139246872566,
          501.1224915036564,
          592.6884532021675,
          486.0834255029927,
          576.0252441251166,
          442.7228915742714,
          461.7909590614097,
          488.387525780145,
          593.1564014822196,
          392.8103449837973,
          443.19722102875545,
          535.4807751896418,
          533.3965537868428,
          532.1274491097012,
          558.9481123879059,
          508.771906741518,
          403.7669020956173,
          640.5840618984408,
          461.62827839108616,
          382.4161078654751,
          561.874657668983,
          444.57614413373005,
          401.0331352191061,
          384.3260571375157,
          527.7829957560522,
          482.144996875768,
          594.2744834186117,
          502.0925279023197,
          407.657178759326,
          708.9351848669819,
          531.9615505451646,
          521.2407802357948,
          447.3690271993314,
          385.152337987975,
          430.58888255648486,
          418.602742095224,
          478.9514047578855,
          483.7965220614929,
          538.941974531203,
          486.1637990666317,
          385.0950070687634,
          527.7837897574573,
          547.1907493518986,
          410.6029439492151,
          583.9778019715428,
          474.5323294398898,
          414.9350606518193,
          550.8133677324173,
          458.78113168424994,
          407.5421680134348,
          581.3089328795,
          546.5566668627299,
          503.1750851912004,
          549.131573287217,
          482.8309858617018,
          557.6082620533542,
          484.87696493512857,
          669.9871405017029,
          547.7099885778625,
          537.8252822957112,
          408.2169017707518,
          663.0748176067602,
          506.37586675019753,
          528.4193296952955,
          632.1235881419656,
          488.2702979651482,
          508.7357409506604,
          411.1869635742789,
          409.09452619233787,
          467.8009243667916,
          512.165866388158,
          608.2718166151668,
          589.0264897562791,
          444.0538265727727,
          493.18126139071865,
          532.724805462904,
          275.9184206503857,
          511.0387860511611,
          438.4177420114685,
          475.7250679098812,
          483.54319386538816,
          663.8036932755082,
          544.4092721605869,
          630.1567281670505,
          461.11224843060927,
          491.9115050963458,
          574.4156896079882,
          530.766718654762,
          581.7987976770314,
          556.2981411740467,
          502.132789227254,
          556.1863688687886,
          475.0716298996618,
          486.9470538397658,
          434.1442020262987,
          304.1355915788555,
          571.2160048349454,
          583.0796356620574,
          445.74984123965226,
          392.9922559140308,
          565.9943634015268,
          499.1401524490539,
          510.5394216996283,
          308.52774655803336,
          561.5165319790891,
          423.4705331738239,
          513.1531118530668,
          529.1945188649573,
          314.4385182951061,
          478.5842860083426,
          444.5821649786528,
          475.0154070877503,
          436.7205558562188,
          521.1953105318003,
          478.1830597118797,
          432.48116855701767,
          438.30370784642975,
          388.9405487921943,
          534.7714849461672,
          537.9157529213054,
          407.8763782204976,
          618.8459704239658,
          502.77107456549606,
          397.420584096457,
          392.2852442462675,
          689.2356997616951,
          543.1326262891694,
          577.7360248512277,
          436.5807403475482,
          553.9946735912697,
          427.3565308022928,
          424.7287739291025,
          541.0498309594356,
          469.38314617236114,
          444.5455496511082,
          492.55683370047706,
          535.3216100850124,
          408.9583359406166,
          487.5554580579016,
          487.64623174384167,
          402.1671222237256,
          551.0230017027826,
          497.38955775884335,
          494.6386097568927,
          479.2474167840931,
          462.65651893471335,
          515.5024796636585,
          576.4776071703129,
          357.85798360521926,
          597.7398788791847,
          327.37795258965207,
          510.4013884525048,
          510.50147847479735,
          403.8195198321978,
          627.603318713015,
          510.661792219672,
          573.8474377162277,
          529.0490041294304,
          551.6201454762476,
          456.469510066298,
          497.7786422156802
         ],
         "yaxis": "y"
        }
       ],
       "layout": {
        "legend": {
         "tracegroupgap": 0
        },
        "template": {
         "data": {
          "bar": [
           {
            "error_x": {
             "color": "#2a3f5f"
            },
            "error_y": {
             "color": "#2a3f5f"
            },
            "marker": {
             "line": {
              "color": "#E5ECF6",
              "width": 0.5
             },
             "pattern": {
              "fillmode": "overlay",
              "size": 10,
              "solidity": 0.2
             }
            },
            "type": "bar"
           }
          ],
          "barpolar": [
           {
            "marker": {
             "line": {
              "color": "#E5ECF6",
              "width": 0.5
             },
             "pattern": {
              "fillmode": "overlay",
              "size": 10,
              "solidity": 0.2
             }
            },
            "type": "barpolar"
           }
          ],
          "carpet": [
           {
            "aaxis": {
             "endlinecolor": "#2a3f5f",
             "gridcolor": "white",
             "linecolor": "white",
             "minorgridcolor": "white",
             "startlinecolor": "#2a3f5f"
            },
            "baxis": {
             "endlinecolor": "#2a3f5f",
             "gridcolor": "white",
             "linecolor": "white",
             "minorgridcolor": "white",
             "startlinecolor": "#2a3f5f"
            },
            "type": "carpet"
           }
          ],
          "choropleth": [
           {
            "colorbar": {
             "outlinewidth": 0,
             "ticks": ""
            },
            "type": "choropleth"
           }
          ],
          "contour": [
           {
            "colorbar": {
             "outlinewidth": 0,
             "ticks": ""
            },
            "colorscale": [
             [
              0,
              "#0d0887"
             ],
             [
              0.1111111111111111,
              "#46039f"
             ],
             [
              0.2222222222222222,
              "#7201a8"
             ],
             [
              0.3333333333333333,
              "#9c179e"
             ],
             [
              0.4444444444444444,
              "#bd3786"
             ],
             [
              0.5555555555555556,
              "#d8576b"
             ],
             [
              0.6666666666666666,
              "#ed7953"
             ],
             [
              0.7777777777777778,
              "#fb9f3a"
             ],
             [
              0.8888888888888888,
              "#fdca26"
             ],
             [
              1,
              "#f0f921"
             ]
            ],
            "type": "contour"
           }
          ],
          "contourcarpet": [
           {
            "colorbar": {
             "outlinewidth": 0,
             "ticks": ""
            },
            "type": "contourcarpet"
           }
          ],
          "heatmap": [
           {
            "colorbar": {
             "outlinewidth": 0,
             "ticks": ""
            },
            "colorscale": [
             [
              0,
              "#0d0887"
             ],
             [
              0.1111111111111111,
              "#46039f"
             ],
             [
              0.2222222222222222,
              "#7201a8"
             ],
             [
              0.3333333333333333,
              "#9c179e"
             ],
             [
              0.4444444444444444,
              "#bd3786"
             ],
             [
              0.5555555555555556,
              "#d8576b"
             ],
             [
              0.6666666666666666,
              "#ed7953"
             ],
             [
              0.7777777777777778,
              "#fb9f3a"
             ],
             [
              0.8888888888888888,
              "#fdca26"
             ],
             [
              1,
              "#f0f921"
             ]
            ],
            "type": "heatmap"
           }
          ],
          "heatmapgl": [
           {
            "colorbar": {
             "outlinewidth": 0,
             "ticks": ""
            },
            "colorscale": [
             [
              0,
              "#0d0887"
             ],
             [
              0.1111111111111111,
              "#46039f"
             ],
             [
              0.2222222222222222,
              "#7201a8"
             ],
             [
              0.3333333333333333,
              "#9c179e"
             ],
             [
              0.4444444444444444,
              "#bd3786"
             ],
             [
              0.5555555555555556,
              "#d8576b"
             ],
             [
              0.6666666666666666,
              "#ed7953"
             ],
             [
              0.7777777777777778,
              "#fb9f3a"
             ],
             [
              0.8888888888888888,
              "#fdca26"
             ],
             [
              1,
              "#f0f921"
             ]
            ],
            "type": "heatmapgl"
           }
          ],
          "histogram": [
           {
            "marker": {
             "pattern": {
              "fillmode": "overlay",
              "size": 10,
              "solidity": 0.2
             }
            },
            "type": "histogram"
           }
          ],
          "histogram2d": [
           {
            "colorbar": {
             "outlinewidth": 0,
             "ticks": ""
            },
            "colorscale": [
             [
              0,
              "#0d0887"
             ],
             [
              0.1111111111111111,
              "#46039f"
             ],
             [
              0.2222222222222222,
              "#7201a8"
             ],
             [
              0.3333333333333333,
              "#9c179e"
             ],
             [
              0.4444444444444444,
              "#bd3786"
             ],
             [
              0.5555555555555556,
              "#d8576b"
             ],
             [
              0.6666666666666666,
              "#ed7953"
             ],
             [
              0.7777777777777778,
              "#fb9f3a"
             ],
             [
              0.8888888888888888,
              "#fdca26"
             ],
             [
              1,
              "#f0f921"
             ]
            ],
            "type": "histogram2d"
           }
          ],
          "histogram2dcontour": [
           {
            "colorbar": {
             "outlinewidth": 0,
             "ticks": ""
            },
            "colorscale": [
             [
              0,
              "#0d0887"
             ],
             [
              0.1111111111111111,
              "#46039f"
             ],
             [
              0.2222222222222222,
              "#7201a8"
             ],
             [
              0.3333333333333333,
              "#9c179e"
             ],
             [
              0.4444444444444444,
              "#bd3786"
             ],
             [
              0.5555555555555556,
              "#d8576b"
             ],
             [
              0.6666666666666666,
              "#ed7953"
             ],
             [
              0.7777777777777778,
              "#fb9f3a"
             ],
             [
              0.8888888888888888,
              "#fdca26"
             ],
             [
              1,
              "#f0f921"
             ]
            ],
            "type": "histogram2dcontour"
           }
          ],
          "mesh3d": [
           {
            "colorbar": {
             "outlinewidth": 0,
             "ticks": ""
            },
            "type": "mesh3d"
           }
          ],
          "parcoords": [
           {
            "line": {
             "colorbar": {
              "outlinewidth": 0,
              "ticks": ""
             }
            },
            "type": "parcoords"
           }
          ],
          "pie": [
           {
            "automargin": true,
            "type": "pie"
           }
          ],
          "scatter": [
           {
            "fillpattern": {
             "fillmode": "overlay",
             "size": 10,
             "solidity": 0.2
            },
            "type": "scatter"
           }
          ],
          "scatter3d": [
           {
            "line": {
             "colorbar": {
              "outlinewidth": 0,
              "ticks": ""
             }
            },
            "marker": {
             "colorbar": {
              "outlinewidth": 0,
              "ticks": ""
             }
            },
            "type": "scatter3d"
           }
          ],
          "scattercarpet": [
           {
            "marker": {
             "colorbar": {
              "outlinewidth": 0,
              "ticks": ""
             }
            },
            "type": "scattercarpet"
           }
          ],
          "scattergeo": [
           {
            "marker": {
             "colorbar": {
              "outlinewidth": 0,
              "ticks": ""
             }
            },
            "type": "scattergeo"
           }
          ],
          "scattergl": [
           {
            "marker": {
             "colorbar": {
              "outlinewidth": 0,
              "ticks": ""
             }
            },
            "type": "scattergl"
           }
          ],
          "scattermapbox": [
           {
            "marker": {
             "colorbar": {
              "outlinewidth": 0,
              "ticks": ""
             }
            },
            "type": "scattermapbox"
           }
          ],
          "scatterpolar": [
           {
            "marker": {
             "colorbar": {
              "outlinewidth": 0,
              "ticks": ""
             }
            },
            "type": "scatterpolar"
           }
          ],
          "scatterpolargl": [
           {
            "marker": {
             "colorbar": {
              "outlinewidth": 0,
              "ticks": ""
             }
            },
            "type": "scatterpolargl"
           }
          ],
          "scatterternary": [
           {
            "marker": {
             "colorbar": {
              "outlinewidth": 0,
              "ticks": ""
             }
            },
            "type": "scatterternary"
           }
          ],
          "surface": [
           {
            "colorbar": {
             "outlinewidth": 0,
             "ticks": ""
            },
            "colorscale": [
             [
              0,
              "#0d0887"
             ],
             [
              0.1111111111111111,
              "#46039f"
             ],
             [
              0.2222222222222222,
              "#7201a8"
             ],
             [
              0.3333333333333333,
              "#9c179e"
             ],
             [
              0.4444444444444444,
              "#bd3786"
             ],
             [
              0.5555555555555556,
              "#d8576b"
             ],
             [
              0.6666666666666666,
              "#ed7953"
             ],
             [
              0.7777777777777778,
              "#fb9f3a"
             ],
             [
              0.8888888888888888,
              "#fdca26"
             ],
             [
              1,
              "#f0f921"
             ]
            ],
            "type": "surface"
           }
          ],
          "table": [
           {
            "cells": {
             "fill": {
              "color": "#EBF0F8"
             },
             "line": {
              "color": "white"
             }
            },
            "header": {
             "fill": {
              "color": "#C8D4E3"
             },
             "line": {
              "color": "white"
             }
            },
            "type": "table"
           }
          ]
         },
         "layout": {
          "annotationdefaults": {
           "arrowcolor": "#2a3f5f",
           "arrowhead": 0,
           "arrowwidth": 1
          },
          "autotypenumbers": "strict",
          "coloraxis": {
           "colorbar": {
            "outlinewidth": 0,
            "ticks": ""
           }
          },
          "colorscale": {
           "diverging": [
            [
             0,
             "#8e0152"
            ],
            [
             0.1,
             "#c51b7d"
            ],
            [
             0.2,
             "#de77ae"
            ],
            [
             0.3,
             "#f1b6da"
            ],
            [
             0.4,
             "#fde0ef"
            ],
            [
             0.5,
             "#f7f7f7"
            ],
            [
             0.6,
             "#e6f5d0"
            ],
            [
             0.7,
             "#b8e186"
            ],
            [
             0.8,
             "#7fbc41"
            ],
            [
             0.9,
             "#4d9221"
            ],
            [
             1,
             "#276419"
            ]
           ],
           "sequential": [
            [
             0,
             "#0d0887"
            ],
            [
             0.1111111111111111,
             "#46039f"
            ],
            [
             0.2222222222222222,
             "#7201a8"
            ],
            [
             0.3333333333333333,
             "#9c179e"
            ],
            [
             0.4444444444444444,
             "#bd3786"
            ],
            [
             0.5555555555555556,
             "#d8576b"
            ],
            [
             0.6666666666666666,
             "#ed7953"
            ],
            [
             0.7777777777777778,
             "#fb9f3a"
            ],
            [
             0.8888888888888888,
             "#fdca26"
            ],
            [
             1,
             "#f0f921"
            ]
           ],
           "sequentialminus": [
            [
             0,
             "#0d0887"
            ],
            [
             0.1111111111111111,
             "#46039f"
            ],
            [
             0.2222222222222222,
             "#7201a8"
            ],
            [
             0.3333333333333333,
             "#9c179e"
            ],
            [
             0.4444444444444444,
             "#bd3786"
            ],
            [
             0.5555555555555556,
             "#d8576b"
            ],
            [
             0.6666666666666666,
             "#ed7953"
            ],
            [
             0.7777777777777778,
             "#fb9f3a"
            ],
            [
             0.8888888888888888,
             "#fdca26"
            ],
            [
             1,
             "#f0f921"
            ]
           ]
          },
          "colorway": [
           "#636efa",
           "#EF553B",
           "#00cc96",
           "#ab63fa",
           "#FFA15A",
           "#19d3f3",
           "#FF6692",
           "#B6E880",
           "#FF97FF",
           "#FECB52"
          ],
          "font": {
           "color": "#2a3f5f"
          },
          "geo": {
           "bgcolor": "white",
           "lakecolor": "white",
           "landcolor": "#E5ECF6",
           "showlakes": true,
           "showland": true,
           "subunitcolor": "white"
          },
          "hoverlabel": {
           "align": "left"
          },
          "hovermode": "closest",
          "mapbox": {
           "style": "light"
          },
          "paper_bgcolor": "white",
          "plot_bgcolor": "#E5ECF6",
          "polar": {
           "angularaxis": {
            "gridcolor": "white",
            "linecolor": "white",
            "ticks": ""
           },
           "bgcolor": "#E5ECF6",
           "radialaxis": {
            "gridcolor": "white",
            "linecolor": "white",
            "ticks": ""
           }
          },
          "scene": {
           "xaxis": {
            "backgroundcolor": "#E5ECF6",
            "gridcolor": "white",
            "gridwidth": 2,
            "linecolor": "white",
            "showbackground": true,
            "ticks": "",
            "zerolinecolor": "white"
           },
           "yaxis": {
            "backgroundcolor": "#E5ECF6",
            "gridcolor": "white",
            "gridwidth": 2,
            "linecolor": "white",
            "showbackground": true,
            "ticks": "",
            "zerolinecolor": "white"
           },
           "zaxis": {
            "backgroundcolor": "#E5ECF6",
            "gridcolor": "white",
            "gridwidth": 2,
            "linecolor": "white",
            "showbackground": true,
            "ticks": "",
            "zerolinecolor": "white"
           }
          },
          "shapedefaults": {
           "line": {
            "color": "#2a3f5f"
           }
          },
          "ternary": {
           "aaxis": {
            "gridcolor": "white",
            "linecolor": "white",
            "ticks": ""
           },
           "baxis": {
            "gridcolor": "white",
            "linecolor": "white",
            "ticks": ""
           },
           "bgcolor": "#E5ECF6",
           "caxis": {
            "gridcolor": "white",
            "linecolor": "white",
            "ticks": ""
           }
          },
          "title": {
           "x": 0.05
          },
          "xaxis": {
           "automargin": true,
           "gridcolor": "white",
           "linecolor": "white",
           "ticks": "",
           "title": {
            "standoff": 15
           },
           "zerolinecolor": "white",
           "zerolinewidth": 2
          },
          "yaxis": {
           "automargin": true,
           "gridcolor": "white",
           "linecolor": "white",
           "ticks": "",
           "title": {
            "standoff": 15
           },
           "zerolinecolor": "white",
           "zerolinewidth": 2
          }
         }
        },
        "title": {
         "text": "Time on App vs Yearly Amount Spent"
        },
        "xaxis": {
         "anchor": "y",
         "domain": [
          0,
          1
         ],
         "title": {
          "text": "Time on App"
         }
        },
        "yaxis": {
         "anchor": "x",
         "domain": [
          0,
          1
         ],
         "title": {
          "text": "Yearly Amount Spent"
         }
        }
       }
      }
     },
     "metadata": {},
     "output_type": "display_data"
    }
   ],
   "source": [
    "import plotly.express as px\n",
    "\n",
    "fig = px.scatter(\n",
    "    data_frame=data, \n",
    "    x='Time on App', \n",
    "    y='Yearly Amount Spent', \n",
    "    title='Time on App vs Yearly Amount Spent')\n",
    "fig.show()"
   ]
  },
  {
   "cell_type": "code",
   "execution_count": 33,
   "metadata": {},
   "outputs": [
    {
     "name": "stdout",
     "output_type": "stream",
     "text": [
      "Mean Squared Error: 9517.612766809558\n",
      "Root Mean Squared Error: 97.55825319679293\n",
      "Intercept: -1573.900111386355\n",
      "Coefficients: [ 10.72173991   7.00587838 -13.91013868 504.89352165   3.40077418]\n",
      "accuracy: 0.9795423968547731\n"
     ]
    }
   ],
   "source": [
    "from sklearn.model_selection import train_test_split\n",
    "from sklearn.linear_model import LinearRegression\n",
    "from sklearn.metrics import root_mean_squared_error, mean_squared_error, r2_score, mean_absolute_error\n",
    "\n",
    "data['Total spend'] = data['Yearly Amount Spent'] * data['Length of Membership']\n",
    "X = data[['Avg. Session Length', 'Time on App', 'Time on Website', 'Length of Membership', 'Yearly Amount Spent']]\n",
    "y = data['Total spend']\n",
    "\n",
    "X_train, X_test, y_train, y_test = train_test_split(X, y, test_size=0.3, random_state=42)\n",
    "\n",
    "model = LinearRegression()\n",
    "model.fit(X_train, y_train)\n",
    "\n",
    "y_pred = model.predict(X_test)\n",
    "\n",
    "print('Mean Squared Error:', mean_squared_error(y_test, y_pred))\n",
    "print('Root Mean Squared Error:', np.sqrt(mean_squared_error(y_test, y_pred)))\n",
    "print('Intercept:', model.intercept_)\n",
    "print('accuracy:', model.score(X_test, y_test))"
   ]
  },
  {
   "cell_type": "code",
   "execution_count": 35,
   "metadata": {},
   "outputs": [
    {
     "name": "stdout",
     "output_type": "stream",
     "text": [
      "Mean Squared Error: 2273.9646153576577\n",
      "Root Mean Squared Error: 47.68610505543158\n",
      "Mean Absolute Error: 31.91405296705035\n",
      "accuracy: 0.9951122338335194\n"
     ]
    }
   ],
   "source": [
    "from sklearn.ensemble import RandomForestRegressor\n",
    "\n",
    "model = RandomForestRegressor()\n",
    "model.fit(X_train, y_train)\n",
    "\n",
    "y_pred = model.predict(X_test)\n",
    "\n",
    "print('Mean Squared Error:', mean_squared_error(y_test, y_pred))\n",
    "print('Root Mean Squared Error:', np.sqrt(mean_squared_error(y_test, y_pred)))\n",
    "print('Mean Absolute Error:', mean_absolute_error(y_test, y_pred))\n",
    "print('accuracy:', model.score(X_test, y_test))\n"
   ]
  },
  {
   "cell_type": "code",
   "execution_count": null,
   "metadata": {},
   "outputs": [],
   "source": []
  }
 ],
 "metadata": {
  "kernelspec": {
   "display_name": "myenv",
   "language": "python",
   "name": "myenv"
  },
  "language_info": {
   "codemirror_mode": {
    "name": "ipython",
    "version": 3
   },
   "file_extension": ".py",
   "mimetype": "text/x-python",
   "name": "python",
   "nbconvert_exporter": "python",
   "pygments_lexer": "ipython3",
   "version": "3.12.6"
  }
 },
 "nbformat": 4,
 "nbformat_minor": 2
}
